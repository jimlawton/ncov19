{
 "cells": [
  {
   "cell_type": "markdown",
   "metadata": {},
   "source": [
    "First, import base packages."
   ]
  },
  {
   "cell_type": "code",
   "execution_count": 8,
   "metadata": {
    "scrolled": true
   },
   "outputs": [],
   "source": [
    "import csv\n",
    "import datetime\n",
    "import pprint\n",
    "from typing import List, Dict, Any"
   ]
  },
  {
   "cell_type": "markdown",
   "metadata": {},
   "source": [
    "Requests is special, becuase it's not part of the Python standard library."
   ]
  },
  {
   "cell_type": "code",
   "execution_count": 9,
   "metadata": {},
   "outputs": [],
   "source": [
    "try:\n",
    "    import requests\n",
    "except NameError:\n",
    "    !{sys.executable} -m pip install requests"
   ]
  },
  {
   "cell_type": "markdown",
   "metadata": {},
   "source": [
    "Set up the URLs for th JHU Coronavirus time-series data."
   ]
  },
  {
   "cell_type": "code",
   "execution_count": 10,
   "metadata": {},
   "outputs": [],
   "source": [
    "base_url = 'https://raw.githubusercontent.com/CSSEGISandData/COVID-19/master/csse_covid_19_data/csse_covid_19_time_series/'\n",
    "cases_url = base_url + 'time_series_covid19_confirmed_global.csv'\n",
    "deaths_url = base_url + 'time_series_covid19_deaths_global.csv'\n",
    "recovered_url = base_url + 'time_series_covid19_recovered_global.csv'"
   ]
  },
  {
   "cell_type": "markdown",
   "metadata": {},
   "source": [
    "Define a function to process the CSV data.\n",
    "- Use CSV reader to generate a list of values for each row, so now we have a list of lists.\n",
    "- Convert the dates in ISO format.\n",
    "- Make a dictionary (map), which is easier to refer to and process. We'll key the dictionary by country. So, it will look something like (Province/State is not used, we'll roll up the data by country):\n",
    "```\n",
    "{\n",
    "    'latitude': '15.0',\n",
    "    'longitude': '101.0',\n",
    "    'data': {\n",
    "        '2020-01-22': '2',\n",
    "        '2020-01-23': '3',\n",
    "       ...\n",
    "    }\n",
    "}\n",
    "```"
   ]
  },
  {
   "cell_type": "code",
   "execution_count": 11,
   "metadata": {},
   "outputs": [],
   "source": [
    "def process_csv(data_type: str, csv_data: List, data_map: Dict[str, Dict[str, Any]] = {}) -> Dict:\n",
    "    \"\"\"Function to process the input CSV data and return a map.\"\"\"\n",
    "\n",
    "    assert(data_type)\n",
    "    assert(csv_data)\n",
    "    if data_map != {}:\n",
    "        assert(data_map)\n",
    "\n",
    "    # Use CSV reader to generate a list of values for each row, so now we have a list of lists.\n",
    "    data = [row for row in csv.reader(csv_data)]\n",
    "    # This will contain in its first element (row), the list of heading from the CSV data.\n",
    "    # Separate the header:\n",
    "    header = data[0]\n",
    "    data = data[1:]\n",
    "    assert(len(data) > 0)\n",
    "\n",
    "    dates = []\n",
    "    # Skip the first 4 headers, the rest will all be dates.\n",
    "    for field in header[4:]:\n",
    "        date = datetime.datetime.strptime(field, '%m/%d/%y')\n",
    "        # This converts '3/23/20' into '2020-03-23T00:00:00'.\n",
    "        # Strip off the last 9 characters, we don't care about the H:M:S.\n",
    "        new_date = str(date.isoformat())[:-9]\n",
    "        dates.append(new_date)\n",
    "\n",
    "    for i, row in enumerate(data):\n",
    "        # 'i' increments with each row.\n",
    "        country = row[1]\n",
    "        assert(country != '')    # Country should never be blank.\n",
    "        province = row[0]\n",
    "        if country == 'United Kingdom':\n",
    "            country = province\n",
    "            province = ''\n",
    "        latitude = row[2]\n",
    "        longitude = row[3]\n",
    "        row_data = row[4:]\n",
    "        if country not in data_map:\n",
    "            # This country is not already in the map. Add it.\n",
    "            data_map[country] = {\n",
    "                'latitude': latitude,\n",
    "                'longitude': longitude,\n",
    "                'cases': {},\n",
    "                'deaths': {},\n",
    "                'recovered': {}\n",
    "            }\n",
    "\n",
    "        for d in dates:\n",
    "            for dtype in ('cases', 'deaths', 'recovered'):\n",
    "                if d not in data_map[country][dtype]:\n",
    "                    data_map[country][dtype][d] = 0\n",
    "\n",
    "        for j, value in enumerate(row_data):\n",
    "            # 'j' increments with each value in row_data: 0, 1, ...\n",
    "            # We can use 'j' to find the corresponding date in the list of dates.\n",
    "            if value == '':\n",
    "                intval = 0\n",
    "            else:\n",
    "                intval = int(value)\n",
    "            new_value = int(data_map[country][data_type][dates[j]]) + intval\n",
    "            data_map[country][data_type][dates[j]] = f\"{new_value}\"\n",
    "\n",
    "    return data_map"
   ]
  },
  {
   "cell_type": "markdown",
   "metadata": {},
   "source": [
    "Fetch the confirmed cases data."
   ]
  },
  {
   "cell_type": "code",
   "execution_count": 12,
   "metadata": {},
   "outputs": [],
   "source": [
    "r = requests.get(cases_url)"
   ]
  },
  {
   "cell_type": "markdown",
   "metadata": {},
   "source": [
    "The response (r) from the website contains, in its 'text' attribute, the raw data.\n",
    "The raw data is in CSV (Comma Separated Value) format, a row per line.\n",
    "Split the raw data into separate lines, giving a list of rows."
   ]
  },
  {
   "cell_type": "code",
   "execution_count": 13,
   "metadata": {},
   "outputs": [],
   "source": [
    "cases_csv: List[str] = r.text.splitlines()\n",
    "data_map: Dict[str, Dict[str, Any]] = process_csv('cases', cases_csv)"
   ]
  },
  {
   "cell_type": "markdown",
   "metadata": {},
   "source": [
    "Use CSV reader to generate a list of values for each row, so now we have a list of lists."
   ]
  },
  {
   "cell_type": "markdown",
   "metadata": {},
   "source": [
    "Now do the same for deaths."
   ]
  },
  {
   "cell_type": "code",
   "execution_count": 14,
   "metadata": {},
   "outputs": [],
   "source": [
    "r = requests.get(deaths_url)\n",
    "deaths_csv: List[str] = r.text.splitlines()\n",
    "data_map = process_csv('deaths', deaths_csv, data_map)"
   ]
  },
  {
   "cell_type": "markdown",
   "metadata": {},
   "source": [
    "Fetch the recovered cases data."
   ]
  },
  {
   "cell_type": "code",
   "execution_count": 15,
   "metadata": {},
   "outputs": [],
   "source": [
    "r = requests.get(recovered_url)\n",
    "recovered_csv: List[str] = r.text.splitlines()\n",
    "data_map = process_csv('recovered', recovered_csv, data_map)"
   ]
  },
  {
   "cell_type": "markdown",
   "metadata": {},
   "source": [
    "Lets filter to a smaller set of countries for now. Just Europe."
   ]
  },
  {
   "cell_type": "code",
   "execution_count": 16,
   "metadata": {},
   "outputs": [],
   "source": [
    "countries = [\n",
    "    \"Albania\", \"Andorra\", \"Austria\", \"Belgium\", \"Bosnia and Herzegovina\",\n",
    "    \"Bulgaria\", \"Croatia\", \"Cyprus\", \"Czechia\", \"Denmark\", \"Estonia\", \"Finland\",\n",
    "    \"France\", \"Germany\", \"Gibraltar\", \"Greece\", \"Holy See\", \"Hungary\", \"Iceland\",\n",
    "    \"Ireland\", \"Italy\", \"Kosovo\", \"Latvia\", \"Liechtenstein\", \"Lithuania\",\n",
    "    \"Luxembourg\", \"Malta\", \"Monaco\", \"Montenegro\", \"Netherlands\",\n",
    "    \"North Macedonia\", \"Norway\", \"Poland\", \"Portugal\", \"Romania\", \"San Marino\",\n",
    "    \"Serbia\", \"Slovakia\", \"Slovenia\", \"Spain\", \"Sweden\", \"Switzerland\",\n",
    "    \"United Kingdom\",\n",
    "]"
   ]
  },
  {
   "cell_type": "code",
   "execution_count": null,
   "metadata": {},
   "outputs": [],
   "source": [
    "filtered_map = {}\n",
    "for country in data_map:\n",
    "    if country not in countries:\n",
    "        continue\n",
    "    filtered_map[country] = data_map[country]\n"
   ]
  }
 ],
 "metadata": {
  "kernelspec": {
   "display_name": "Python 3",
   "language": "python",
   "name": "python3"
  },
  "language_info": {
   "codemirror_mode": {
    "name": "ipython",
    "version": 3
   },
   "file_extension": ".py",
   "mimetype": "text/x-python",
   "name": "python",
   "nbconvert_exporter": "python",
   "pygments_lexer": "ipython3",
   "version": "3.7.7"
  }
 },
 "nbformat": 4,
 "nbformat_minor": 4
}
